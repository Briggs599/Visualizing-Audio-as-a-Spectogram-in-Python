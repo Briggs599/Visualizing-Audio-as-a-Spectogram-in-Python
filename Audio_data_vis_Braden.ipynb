{
 "metadata": {
  "language_info": {
   "codemirror_mode": {
    "name": "ipython",
    "version": 3
   },
   "file_extension": ".py",
   "mimetype": "text/x-python",
   "name": "python",
   "nbconvert_exporter": "python",
   "pygments_lexer": "ipython3",
   "version": "3.9.5"
  },
  "orig_nbformat": 4,
  "kernelspec": {
   "name": "python3",
   "display_name": "Python 3.9.5 64-bit"
  },
  "interpreter": {
   "hash": "f96efbd20990c9b87154ff1e04974328ba5cd93cb6fdf3bf0ba6a60073362e50"
  }
 },
 "nbformat": 4,
 "nbformat_minor": 2,
 "cells": [
  {
   "cell_type": "markdown",
   "source": [
    "# A Beginner's Guide to Visualizing Audio as a Spectogram in Python\r\n",
    "## [Braden Riggs](https://twitter.com/BradenRiggs1) | [Read the blog here](https://dolby.io/blog/beginners-guide-to-visualizing-audio-as-a-spectogram-in-python)"
   ],
   "metadata": {}
  },
  {
   "cell_type": "code",
   "execution_count": null,
   "source": [
    "import numpy as np # for data transformation\r\n",
    "import matplotlib.pyplot as plt # for visualizing the data\r\n",
    "import scipy.io.wavfile as wavfile # for opening the data"
   ],
   "outputs": [],
   "metadata": {}
  },
  {
   "cell_type": "code",
   "execution_count": null,
   "source": [
    "#Time series plot, kinda eh... it looks better in a spectrogram.\r\n",
    "\r\n",
    "def plot_sound(filen, fileb=None):\r\n",
    "    plt.figure(figsize=(16, 5), dpi=80)\r\n",
    "\r\n",
    "    if fileb != None:\r\n",
    "        Fs, aud = wavfile.read(fileb)\r\n",
    "        aud = aud[:,0] #Pick just the left channel\r\n",
    "        first = aud[:int(Fs*12)] #Snip just the first 1.5 seconds\r\n",
    "        plt.plot(first, alpha=0.5,c=\"red\")\r\n",
    "\r\n",
    "\r\n",
    "    Fs, aud = wavfile.read(filen)\r\n",
    "    aud = aud[:,0] #Pick just the left channel\r\n",
    "    print(\"Sample rate: \"+str(Fs))\r\n",
    "    print(\"Duration: \" + str(aud.shape[0]/Fs) +\" seconds\")\r\n",
    "    first = aud[:int(Fs*12)] #Snip just the first 1.5 seconds\r\n",
    "    print(first)\r\n",
    "    plt.plot(np.arange(len(first))/44100,first, alpha=0.5,c=\"blue\")\r\n",
    "\r\n",
    "\r\n",
    "\r\n",
    "    plt.ylabel(\"Sound Pressure (Pa)\", family = \"Times New Roman\", size = 12)\r\n",
    "    plt.xlabel(\"Seconds\", family = \"Times New Roman\", size = 12)\r\n",
    "    plt.title(\"Waveform Plot of the First 12s of Franklin D. Roosevelt's 1941 Pearl Harbor Speech\", family = \"Times New Roman\", size = 15, weight = \"bold\")\r\n",
    "    plt.savefig(\"waveform\")"
   ],
   "outputs": [],
   "metadata": {}
  },
  {
   "cell_type": "code",
   "execution_count": null,
   "source": [
    "plot_sound(\"pearl_harbor.wav\") #enhanced first then original, otherwise it looks a little weird."
   ],
   "outputs": [],
   "metadata": {}
  },
  {
   "cell_type": "code",
   "execution_count": null,
   "source": [
    "#first for egualr audio\r\n",
    "Fs, aud = wavfile.read(\"pearl_harbor.wav\") #Load Audio\r\n",
    "aud = aud[:,0] #Just left channel\r\n",
    "first = aud[:int(Fs*125)]  #First 125 seconds \r\n",
    "\r\n",
    "#Style stuff\r\n",
    "fig, axs = plt.subplots(2,figsize=(20,10))\r\n",
    "fig.tight_layout(pad=6.0)\r\n",
    "fig.suptitle('Spectograms of Before and After on Dolby.io Enhance', size = 20, weight = \"bold\", family = \"Times New Roman\")\r\n",
    "axs[0].set_title(\"Original FDR Pearl Harbor Audio\", family = \"Times New Roman\", size = 15)\r\n",
    "\r\n",
    "#spec func\r\n",
    "powerSpectrum, freqenciesFound, time, imageAxis = axs[0].specgram(first, Fs=Fs, cmap =  \"viridis\")\r\n",
    "\r\n",
    "#Again for Enhanced Audio\r\n",
    "Fs, aud = wavfile.read(\"pearl_enhanced.wav\")\r\n",
    "aud = aud[:,0]\r\n",
    "first = aud[:int(Fs*125)]\r\n",
    "\r\n",
    "axs[1].set_title(\"Enhanced FDR Pearl Harbor Audio\", family = \"Times New Roman\", size = 15)\r\n",
    "powerSpectrum, freqenciesFound, time, imageAxis = axs[1].specgram(first, Fs=Fs, cmap = \"viridis\")\r\n",
    "\r\n",
    "\r\n",
    "for ax in axs.flat:\r\n",
    "    ax.set(xlabel='Time (Second)', ylabel='Frequency (Hz)')\r\n",
    "\r\n",
    "plt.savefig(\"spect\")"
   ],
   "outputs": [],
   "metadata": {}
  }
 ]
}